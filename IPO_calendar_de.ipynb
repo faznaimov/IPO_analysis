{
 "cells": [
  {
   "cell_type": "code",
   "execution_count": 16,
   "metadata": {},
   "outputs": [],
   "source": [
    "import pandas as pd"
   ]
  },
  {
   "cell_type": "code",
   "execution_count": 54,
   "metadata": {},
   "outputs": [],
   "source": [
    "df = pd.read_csv('output/ipo_calendar.csv')"
   ]
  },
  {
   "cell_type": "code",
   "execution_count": 55,
   "metadata": {},
   "outputs": [
    {
     "data": {
      "text/html": [
       "<div>\n",
       "<style scoped>\n",
       "    .dataframe tbody tr th:only-of-type {\n",
       "        vertical-align: middle;\n",
       "    }\n",
       "\n",
       "    .dataframe tbody tr th {\n",
       "        vertical-align: top;\n",
       "    }\n",
       "\n",
       "    .dataframe thead th {\n",
       "        text-align: right;\n",
       "    }\n",
       "</style>\n",
       "<table border=\"1\" class=\"dataframe\">\n",
       "  <thead>\n",
       "    <tr style=\"text-align: right;\">\n",
       "      <th></th>\n",
       "      <th>Date</th>\n",
       "      <th>Exchange</th>\n",
       "      <th>Company Name</th>\n",
       "      <th>Number of Shares</th>\n",
       "      <th>Price</th>\n",
       "      <th>Status</th>\n",
       "      <th>Symbol</th>\n",
       "      <th>Number of Shares.1</th>\n",
       "    </tr>\n",
       "  </thead>\n",
       "  <tbody>\n",
       "    <tr>\n",
       "      <th>0</th>\n",
       "      <td>2005-02-01</td>\n",
       "      <td>NaN</td>\n",
       "      <td>OAK STREET FINANCIAL SERVICES INC</td>\n",
       "      <td>NaN</td>\n",
       "      <td>NaN</td>\n",
       "      <td>withdrawn</td>\n",
       "      <td>NaN</td>\n",
       "      <td>NaN</td>\n",
       "    </tr>\n",
       "    <tr>\n",
       "      <th>1</th>\n",
       "      <td>2005-01-31</td>\n",
       "      <td>NaN</td>\n",
       "      <td>TRANSPORTATION TECHNOLOGIES INDUSTRIES INC</td>\n",
       "      <td>NaN</td>\n",
       "      <td>NaN</td>\n",
       "      <td>withdrawn</td>\n",
       "      <td>NaN</td>\n",
       "      <td>NaN</td>\n",
       "    </tr>\n",
       "    <tr>\n",
       "      <th>2</th>\n",
       "      <td>2005-01-28</td>\n",
       "      <td>New York Stock Exchange</td>\n",
       "      <td>W&amp;T OFFSHORE INC</td>\n",
       "      <td>12655263.0</td>\n",
       "      <td>19.00</td>\n",
       "      <td>priced</td>\n",
       "      <td>WTI</td>\n",
       "      <td>240449997.0</td>\n",
       "    </tr>\n",
       "    <tr>\n",
       "      <th>3</th>\n",
       "      <td>2005-01-28</td>\n",
       "      <td>Nasdaq National Market</td>\n",
       "      <td>DFC GLOBAL CORP.</td>\n",
       "      <td>7500000.0</td>\n",
       "      <td>16.00</td>\n",
       "      <td>priced</td>\n",
       "      <td>DLLR</td>\n",
       "      <td>120000000.0</td>\n",
       "    </tr>\n",
       "    <tr>\n",
       "      <th>4</th>\n",
       "      <td>2005-01-28</td>\n",
       "      <td>Nasdaq National Market</td>\n",
       "      <td>NATIONAL INTERSTATE CORP</td>\n",
       "      <td>3847000.0</td>\n",
       "      <td>13.50</td>\n",
       "      <td>priced</td>\n",
       "      <td>NATL</td>\n",
       "      <td>51934500.0</td>\n",
       "    </tr>\n",
       "  </tbody>\n",
       "</table>\n",
       "</div>"
      ],
      "text/plain": [
       "         Date                 Exchange  \\\n",
       "0  2005-02-01                      NaN   \n",
       "1  2005-01-31                      NaN   \n",
       "2  2005-01-28  New York Stock Exchange   \n",
       "3  2005-01-28   Nasdaq National Market   \n",
       "4  2005-01-28   Nasdaq National Market   \n",
       "\n",
       "                                 Company Name  Number of Shares  Price  \\\n",
       "0           OAK STREET FINANCIAL SERVICES INC               NaN    NaN   \n",
       "1  TRANSPORTATION TECHNOLOGIES INDUSTRIES INC               NaN    NaN   \n",
       "2                            W&T OFFSHORE INC        12655263.0  19.00   \n",
       "3                            DFC GLOBAL CORP.         7500000.0  16.00   \n",
       "4                    NATIONAL INTERSTATE CORP         3847000.0  13.50   \n",
       "\n",
       "      Status Symbol  Number of Shares.1  \n",
       "0  withdrawn    NaN                 NaN  \n",
       "1  withdrawn    NaN                 NaN  \n",
       "2     priced    WTI         240449997.0  \n",
       "3     priced   DLLR         120000000.0  \n",
       "4     priced   NATL          51934500.0  "
      ]
     },
     "execution_count": 55,
     "metadata": {},
     "output_type": "execute_result"
    }
   ],
   "source": [
    "df.head()"
   ]
  },
  {
   "cell_type": "code",
   "execution_count": 56,
   "metadata": {},
   "outputs": [],
   "source": [
    "df = df.rename(columns={\"Number of Shares.1\": \"Total Shares Value\"})"
   ]
  },
  {
   "cell_type": "code",
   "execution_count": 57,
   "metadata": {},
   "outputs": [
    {
     "data": {
      "text/plain": [
       "priced       3129\n",
       "filed        1659\n",
       "withdrawn    1509\n",
       "expected        2\n",
       "Name: Status, dtype: int64"
      ]
     },
     "execution_count": 57,
     "metadata": {},
     "output_type": "execute_result"
    }
   ],
   "source": [
    "df['Status'].value_counts()"
   ]
  },
  {
   "cell_type": "code",
   "execution_count": 58,
   "metadata": {},
   "outputs": [],
   "source": [
    "df = df[df['Status']=='priced'].reset_index()"
   ]
  },
  {
   "cell_type": "code",
   "execution_count": 59,
   "metadata": {
    "scrolled": true
   },
   "outputs": [
    {
     "data": {
      "text/plain": [
       "index                 0\n",
       "Date                  0\n",
       "Exchange              0\n",
       "Company Name          0\n",
       "Number of Shares      0\n",
       "Price                 0\n",
       "Status                0\n",
       "Symbol                3\n",
       "Total Shares Value    0\n",
       "dtype: int64"
      ]
     },
     "execution_count": 59,
     "metadata": {},
     "output_type": "execute_result"
    }
   ],
   "source": [
    "df.isna().sum()"
   ]
  },
  {
   "cell_type": "code",
   "execution_count": 60,
   "metadata": {},
   "outputs": [
    {
     "data": {
      "text/html": [
       "<div>\n",
       "<style scoped>\n",
       "    .dataframe tbody tr th:only-of-type {\n",
       "        vertical-align: middle;\n",
       "    }\n",
       "\n",
       "    .dataframe tbody tr th {\n",
       "        vertical-align: top;\n",
       "    }\n",
       "\n",
       "    .dataframe thead th {\n",
       "        text-align: right;\n",
       "    }\n",
       "</style>\n",
       "<table border=\"1\" class=\"dataframe\">\n",
       "  <thead>\n",
       "    <tr style=\"text-align: right;\">\n",
       "      <th></th>\n",
       "      <th>index</th>\n",
       "      <th>Date</th>\n",
       "      <th>Exchange</th>\n",
       "      <th>Company Name</th>\n",
       "      <th>Number of Shares</th>\n",
       "      <th>Price</th>\n",
       "      <th>Status</th>\n",
       "      <th>Symbol</th>\n",
       "      <th>Total Shares Value</th>\n",
       "    </tr>\n",
       "  </thead>\n",
       "  <tbody>\n",
       "    <tr>\n",
       "      <th>694</th>\n",
       "      <td>1092</td>\n",
       "      <td>2007-07-30</td>\n",
       "      <td>OTCBB</td>\n",
       "      <td>NORTH PENN BANCORP INC</td>\n",
       "      <td>1322500.0</td>\n",
       "      <td>10.00</td>\n",
       "      <td>priced</td>\n",
       "      <td>NaN</td>\n",
       "      <td>13225000.0</td>\n",
       "    </tr>\n",
       "    <tr>\n",
       "      <th>712</th>\n",
       "      <td>1123</td>\n",
       "      <td>2007-07-02</td>\n",
       "      <td>Nasdaq SmallCap Market</td>\n",
       "      <td>VAUGHAN FOODS, INC.</td>\n",
       "      <td>2150000.0</td>\n",
       "      <td>6.50</td>\n",
       "      <td>priced</td>\n",
       "      <td>NaN</td>\n",
       "      <td>13975000.0</td>\n",
       "    </tr>\n",
       "    <tr>\n",
       "      <th>901</th>\n",
       "      <td>1533</td>\n",
       "      <td>2008-07-02</td>\n",
       "      <td>OTCBB</td>\n",
       "      <td>VIRTUAL MEDICAL CENTRE, INC.</td>\n",
       "      <td>7593000.0</td>\n",
       "      <td>0.15</td>\n",
       "      <td>priced</td>\n",
       "      <td>NaN</td>\n",
       "      <td>1138950.0</td>\n",
       "    </tr>\n",
       "  </tbody>\n",
       "</table>\n",
       "</div>"
      ],
      "text/plain": [
       "     index        Date                Exchange                  Company Name  \\\n",
       "694   1092  2007-07-30                   OTCBB        NORTH PENN BANCORP INC   \n",
       "712   1123  2007-07-02  Nasdaq SmallCap Market           VAUGHAN FOODS, INC.   \n",
       "901   1533  2008-07-02                   OTCBB  VIRTUAL MEDICAL CENTRE, INC.   \n",
       "\n",
       "     Number of Shares  Price  Status Symbol  Total Shares Value  \n",
       "694         1322500.0  10.00  priced    NaN          13225000.0  \n",
       "712         2150000.0   6.50  priced    NaN          13975000.0  \n",
       "901         7593000.0   0.15  priced    NaN           1138950.0  "
      ]
     },
     "execution_count": 60,
     "metadata": {},
     "output_type": "execute_result"
    }
   ],
   "source": [
    "df[df.isnull().any(axis=1)]"
   ]
  },
  {
   "cell_type": "code",
   "execution_count": 61,
   "metadata": {},
   "outputs": [],
   "source": [
    "# manually looked up tickers and update\n",
    "df.at[694, \"Symbol\"] = \"NPBP\"\n",
    "df.at[712, \"Symbol\"] = \"FOOD\"\n",
    "df.at[901, \"Symbol\"] = \"VMCT\""
   ]
  },
  {
   "cell_type": "code",
   "execution_count": 62,
   "metadata": {},
   "outputs": [
    {
     "data": {
      "text/plain": [
       "index                 0\n",
       "Date                  0\n",
       "Exchange              0\n",
       "Company Name          0\n",
       "Number of Shares      0\n",
       "Price                 0\n",
       "Status                0\n",
       "Symbol                0\n",
       "Total Shares Value    0\n",
       "dtype: int64"
      ]
     },
     "execution_count": 62,
     "metadata": {},
     "output_type": "execute_result"
    }
   ],
   "source": [
    "df.isna().sum()"
   ]
  },
  {
   "cell_type": "code",
   "execution_count": 64,
   "metadata": {},
   "outputs": [
    {
     "data": {
      "text/plain": [
       "(3129, 9)"
      ]
     },
     "execution_count": 64,
     "metadata": {},
     "output_type": "execute_result"
    }
   ],
   "source": [
    "df.shape"
   ]
  },
  {
   "cell_type": "code",
   "execution_count": 65,
   "metadata": {},
   "outputs": [],
   "source": [
    "df.to_csv(\"output/ipo_calendar_clean.csv\", index=False)"
   ]
  },
  {
   "cell_type": "code",
   "execution_count": null,
   "metadata": {},
   "outputs": [],
   "source": []
  }
 ],
 "metadata": {
  "kernelspec": {
   "display_name": "Python [conda env:ipo_env]",
   "language": "python",
   "name": "conda-env-ipo_env-py"
  },
  "language_info": {
   "codemirror_mode": {
    "name": "ipython",
    "version": 3
   },
   "file_extension": ".py",
   "mimetype": "text/x-python",
   "name": "python",
   "nbconvert_exporter": "python",
   "pygments_lexer": "ipython3",
   "version": "3.7.7"
  },
  "toc": {
   "base_numbering": 1,
   "nav_menu": {},
   "number_sections": true,
   "sideBar": true,
   "skip_h1_title": false,
   "title_cell": "Table of Contents",
   "title_sidebar": "Contents",
   "toc_cell": false,
   "toc_position": {},
   "toc_section_display": true,
   "toc_window_display": false
  },
  "varInspector": {
   "cols": {
    "lenName": 16,
    "lenType": 16,
    "lenVar": 40
   },
   "kernels_config": {
    "python": {
     "delete_cmd_postfix": "",
     "delete_cmd_prefix": "del ",
     "library": "var_list.py",
     "varRefreshCmd": "print(var_dic_list())"
    },
    "r": {
     "delete_cmd_postfix": ") ",
     "delete_cmd_prefix": "rm(",
     "library": "var_list.r",
     "varRefreshCmd": "cat(var_dic_list()) "
    }
   },
   "types_to_exclude": [
    "module",
    "function",
    "builtin_function_or_method",
    "instance",
    "_Feature"
   ],
   "window_display": false
  }
 },
 "nbformat": 4,
 "nbformat_minor": 2
}
